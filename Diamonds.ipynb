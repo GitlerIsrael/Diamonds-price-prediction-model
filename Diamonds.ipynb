{
 "cells": [
  {
   "cell_type": "markdown",
   "id": "155b657c",
   "metadata": {},
   "source": [
    "# Import libraries"
   ]
  },
  {
   "cell_type": "code",
   "execution_count": 2,
   "id": "07ea4f46",
   "metadata": {
    "scrolled": true
   },
   "outputs": [],
   "source": [
    "import pandas as pd\n",
    "import requests\n",
    "from bs4 import BeautifulSoup as bs\n",
    "import random"
   ]
  },
  {
   "cell_type": "code",
   "execution_count": null,
   "id": "c05c1c6d",
   "metadata": {},
   "outputs": [],
   "source": [
    "# Creating a function to retrieve data from a list of <div>s\n",
    "\n",
    "def retrieve_data(page, listing_divs):\n",
    "    listing_list = []\n",
    "    for index in range(23):\n",
    "        each_listing = []\n",
    "        \n",
    "        try:\n",
    "            current_diamond = listing_divs.select('div[id*=_{page}_{index}]'.format(page=page, index=index))[0]\n",
    "        except:\n",
    "            break\n",
    "        \n",
    "        #scraping diamond features\n",
    "        try:\n",
    "            url = current_diamond.select('a[class*=image-container]')[0]['href']\n",
    "            url = 'https://www.jamesallen.com/'+url\n",
    "        \n",
    "            r = requests.get(url)\n",
    "            soup = bs(r.content, \"html5lib\")\n",
    "        \n",
    "            try:\n",
    "                data = soup.select('div[class*=tablesContainer]')[0]\n",
    "            except:\n",
    "                break\n",
    "            \n",
    "        \n",
    "            try:\n",
    "                carat = data.select('div[data-qa*=stone_carat_value]')[0].string\n",
    "            except:\n",
    "                carat = None\n",
    "            try:\n",
    "                color = data.select('div[data-qa*=stone_color_value]')[0].string\n",
    "            except:\n",
    "                color = None\n",
    "            try:\n",
    "                clarity = data.select('div[data-qa*=stone_clarity_value]')[0].string\n",
    "            except:\n",
    "                clarity = None\n",
    "            try:\n",
    "                cut = data.select('div[data-qa*=stone_cut_value]')[0].string\n",
    "            except:\n",
    "                cut = None\n",
    "            try:\n",
    "                polish = data.select('div[data-qa*=stone_polish_value]')[0].string\n",
    "            except:\n",
    "                polish = None\n",
    "            try:    \n",
    "                shape = data.select('div[data-qa*=stone_shape_value]')[0].string\n",
    "            except:\n",
    "                shape = None\n",
    "            try:\n",
    "                symmetry = data.select('div[data-qa*=stone_symmetry_value]')[0].string\n",
    "            except:\n",
    "                symmetry = None\n",
    "            try:\n",
    "                fluorescence = data.select('div[data-qa*=stone_fluorescence_value]')[0].string\n",
    "            except:\n",
    "                fluorescence = None\n",
    "            try:\n",
    "                lw = data.select('div[data-qa*=stone_lw_value]')[0].string\n",
    "            except:\n",
    "                lw = None\n",
    "            try:\n",
    "                lw_ratio = data.select('div[data-qa*=stone_lw_ratio_value]')[0].string\n",
    "            except:\n",
    "                lw_ratio = None\n",
    "            try:\n",
    "                certificate = data.select('div[data-qa*=stone_certificate_value]')[0].string\n",
    "            except:\n",
    "                certificate = None\n",
    "        \n",
    "            price = current_diamond.select('div[class*=salePrice]')\n",
    "            if len(price)==0:\n",
    "                price = current_diamond.select('div[class*=price]')\n",
    "            price = price[0].string\n",
    "            \n",
    "            each_listing.append(url)\n",
    "            each_listing.append(carat)\n",
    "            each_listing.append(color)\n",
    "            each_listing.append(clarity)\n",
    "            each_listing.append(cut)\n",
    "            each_listing.append(polish)\n",
    "            each_listing.append(shape)\n",
    "            each_listing.append(symmetry)\n",
    "            each_listing.append(fluorescence)\n",
    "            each_listing.append(lw)\n",
    "            each_listing.append(lw_ratio)\n",
    "            each_listing.append(certificate)\n",
    "            each_listing.append(price)\n",
    "\n",
    "            listing_list.append(each_listing)\n",
    "        \n",
    "        \n",
    "        except:\n",
    "            break   \n",
    "\n",
    "    return listing_list"
   ]
  },
  {
   "cell_type": "code",
   "execution_count": null,
   "id": "6a938e3b",
   "metadata": {
    "scrolled": false
   },
   "outputs": [],
   "source": [
    "#scraping random pages from price range.\n",
    "\n",
    "#all_pages_parsed = []\n",
    "def scrape(prices):\n",
    "    url_prefix = 'http://www.jamesallen.com/loose-diamonds/all-diamonds/page-'\n",
    "\n",
    "    for start_price in prices:\n",
    "    \n",
    "        print('scraping page number' + str(start_price//200) + '...(price range : $' + str(start_price) + '-$' + str(start_price+200) + ')')\n",
    "\n",
    "        random_page = random.randint(1,20) ## there are maximum 20 pages in each search.\n",
    "        if random_page==1:\n",
    "            target_page ='http://www.jamesallen.com/loose-diamonds/all-diamonds/?Color=M,L,K,J,I,H,G,F,E,D&Cut=Good,Very+Good,Ideal,TrueHearts&Shape=all-diamonds&Clarity=I1,SI2,SI1,VS2,VS1,VVS2,VVS1,IF,FL&PriceFrom=' + str(start_price)+ '&PriceTo=' + str(start_price+200)+ '&CaratFrom=0.05'\n",
    "        else:\n",
    "            target_page = url_prefix + str(random_page) + '/?Color=M,L,K,J,I,H,G,F,E,D&Cut=Good,Very+Good,Ideal,TrueHearts&Shape=all-diamonds&Clarity=I1,SI2,SI1,VS2,VS1,VVS2,VVS1,IF,FL&PriceFrom=' + str(start_price)+ '&PriceTo=' + str(start_price+200)+ '&CaratFrom=0.05'\n",
    "\n",
    "        r = requests.get(target_page)\n",
    " \n",
    "        # Getting a BeautifulSoup instance to be able to retrieve data\n",
    "        soup = bs(r.content, \"html5lib\")\n",
    " \n",
    "        listing_divs = soup.find('div', attrs={'id':'data-page-container'})\n",
    "        if listing_divs == None:\n",
    "            print('This random generated page did not found, lets try to scrape the first page...')\n",
    "            random_page=1\n",
    "            sr = requests.get('http://www.jamesallen.com/loose-diamonds/all-diamonds/?Color=M,L,K,J,I,H,G,F,E,D&Cut=Good,Very+Good,Ideal,TrueHearts&Shape=all-diamonds&Clarity=I1,SI2,SI1,VS2,VS1,VVS2,VVS1,IF,FL&PriceFrom=' + str(start_price)+ '&PriceTo=' + str(start_price+200)+ '&CaratFrom=0.05')\n",
    "            # Getting a BeautifulSoup instance to be able to retrieve data\n",
    "            soup = bs(r.content, \"html5lib\")\n",
    "            listing_divs = soup.find('div', attrs={'id':'data-page-container'})\n",
    "            if listing_divs == None:\n",
    "                continue\n",
    " \n",
    "\n",
    "        one_page_parsed = retrieve_data(random_page, listing_divs)\n",
    "\n",
    "        df = pd.DataFrame(one_page_parsed, columns=['url','carat','color','clarity','cut', 'polish', 'shape', 'symmetry', 'fluorescence', 'lw', 'lw_ratio','certificate', 'price'])\n",
    "        df.to_csv('scraped_Diamonds', mode='a', header=False)"
   ]
  },
  {
   "cell_type": "code",
   "execution_count": null,
   "id": "822ff7e4",
   "metadata": {},
   "outputs": [],
   "source": [
    "file = pd.DataFrame(columns=['url','carat','color','clarity','cut', 'polish', 'shape', 'symmetry', 'fluorescence', 'lw', 'lw_ratio','certificate', 'price'])\n",
    "file.to_csv('scraped_Diamonds')"
   ]
  },
  {
   "cell_type": "code",
   "execution_count": null,
   "id": "46a32c59",
   "metadata": {
    "scrolled": true
   },
   "outputs": [],
   "source": [
    "prices = [i for i in range(200, 100001, 200)] ##diamonds till 100,000 dollars."
   ]
  },
  {
   "cell_type": "code",
   "execution_count": null,
   "id": "e0a6921e",
   "metadata": {},
   "outputs": [],
   "source": [
    "scrape(prices)"
   ]
  }
 ],
 "metadata": {
  "kernelspec": {
   "display_name": "Python 3 (ipykernel)",
   "language": "python",
   "name": "python3"
  },
  "language_info": {
   "codemirror_mode": {
    "name": "ipython",
    "version": 3
   },
   "file_extension": ".py",
   "mimetype": "text/x-python",
   "name": "python",
   "nbconvert_exporter": "python",
   "pygments_lexer": "ipython3",
   "version": "3.8.12"
  }
 },
 "nbformat": 4,
 "nbformat_minor": 5
}
